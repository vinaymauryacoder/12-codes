{
 "cells": [
  {
   "cell_type": "code",
   "execution_count": null,
   "id": "217bfe48",
   "metadata": {},
   "outputs": [],
   "source": [
    "#ANSWER 1 :\n",
    "Exception in Python is an event that occurs during program execution, which disrupts the normal flow of the program. When an \n",
    "exception occurs, Python raises an error message to indicate that something went wrong. \n",
    "    \n",
    "Difference between Exceptions and syntax errors is that syntax errors occur before the program is executed and prevent the \n",
    "program from running, while Exceptions occur during program execution and can be handled by the program to \n",
    "prevent it from crashing.\n",
    "syntax errors include misspelling a keyword or forgetting a colon at the end of a line.\n"
   ]
  },
  {
   "cell_type": "code",
   "execution_count": null,
   "id": "a3701821",
   "metadata": {},
   "outputs": [],
   "source": [
    "# ANSWER 2 :\n",
    "\n",
    "When an exception is not handled in Python,program terminates unexpectedly and an error message is displayed\n",
    "\n",
    "This is known as an \"unhandled exception\"."
   ]
  },
  {
   "cell_type": "code",
   "execution_count": 1,
   "id": "716aa43c",
   "metadata": {},
   "outputs": [
    {
     "ename": "ZeroDivisionError",
     "evalue": "division by zero",
     "output_type": "error",
     "traceback": [
      "\u001b[1;31m---------------------------------------------------------------------------\u001b[0m",
      "\u001b[1;31mZeroDivisionError\u001b[0m                         Traceback (most recent call last)",
      "\u001b[1;32m~\\AppData\\Local\\Temp\\ipykernel_19532\\532118508.py\u001b[0m in \u001b[0;36m<module>\u001b[1;34m\u001b[0m\n\u001b[0;32m      1\u001b[0m \u001b[0ma\u001b[0m \u001b[1;33m=\u001b[0m \u001b[1;36m10\u001b[0m\u001b[1;33m\u001b[0m\u001b[1;33m\u001b[0m\u001b[0m\n\u001b[1;32m----> 2\u001b[1;33m \u001b[0ma\u001b[0m\u001b[1;33m/\u001b[0m\u001b[1;36m0\u001b[0m\u001b[1;33m\u001b[0m\u001b[1;33m\u001b[0m\u001b[0m\n\u001b[0m",
      "\u001b[1;31mZeroDivisionError\u001b[0m: division by zero"
     ]
    }
   ],
   "source": [
    "a = 10\n",
    "a/0"
   ]
  },
  {
   "cell_type": "code",
   "execution_count": null,
   "id": "bf514f74",
   "metadata": {},
   "outputs": [],
   "source": [
    "Q3. Which Python statements are used to catch and handle exceptions? Explain with an example?"
   ]
  },
  {
   "cell_type": "code",
   "execution_count": null,
   "id": "840c2461",
   "metadata": {},
   "outputs": [],
   "source": [
    "Python provides two main statements to catch and handle exceptions: try-except and try-except-finally.\n",
    "    \n",
    "try:\n",
    "    \n",
    "    x = int(input(\"Enter a number: \"))\n",
    "    y = 10 / x\n",
    "    print(y)\n",
    "except ValueError:\n",
    "    print(\"Invalid input.\")\n",
    "except ZeroDivisionError:\n",
    "    print(\"Cannot divide by zero.\")\n"
   ]
  },
  {
   "cell_type": "code",
   "execution_count": null,
   "id": "7e81539d",
   "metadata": {},
   "outputs": [],
   "source": [
    "try:\n",
    "    f = open(\"example.txt\", \"r\")\n",
    "    # Do some file processing\n",
    "except FileNotFoundError:\n",
    "    print(\"File not found.\")\n",
    "finally:\n",
    "    f.close()\n"
   ]
  },
  {
   "cell_type": "code",
   "execution_count": null,
   "id": "363d91ff",
   "metadata": {},
   "outputs": [],
   "source": [
    "Q4. explain with an example :\n",
    "    a. try and else\n",
    "    b. finally\n",
    "    c. raise"
   ]
  },
  {
   "cell_type": "code",
   "execution_count": 1,
   "id": "89103198",
   "metadata": {},
   "outputs": [
    {
     "name": "stdout",
     "output_type": "stream",
     "text": [
      "Enter a number: 9\n",
      "The result is: 1.1111111111111112\n"
     ]
    }
   ],
   "source": [
    " \"\"\"try and else statements in Python are used to handle code that may raise an exception and to handle code that should only \n",
    "execute if no exception was raised in the try block.\"\"\"\n",
    "\n",
    "try:\n",
    "    x = int(input(\"Enter a number: \"))\n",
    "    y = 10 / x\n",
    "except ValueError:\n",
    "    print(\"Invalid input.\")\n",
    "except ZeroDivisionError:\n",
    "    print(\"Cannot divide by zero.\")\n",
    "else:\n",
    "    print(\"The result is:\", y)\n"
   ]
  },
  {
   "cell_type": "code",
   "execution_count": null,
   "id": "12b5e0ba",
   "metadata": {},
   "outputs": [],
   "source": [
    "\"\"\"The finally statement in Python is used to specify a block of code that will be executed no matter what, whether an exception\n",
    "occurred or not. It is often used to release resources, such as closing files or network connections, that were opened in a \n",
    "try block.\"\"\"\n",
    "\n",
    "try:\n",
    "    f = open(\"example.txt\", \"r\")\n",
    "\n",
    "finally:\n",
    "    f.close()\n"
   ]
  },
  {
   "cell_type": "code",
   "execution_count": 5,
   "id": "5b8e7d2f",
   "metadata": {},
   "outputs": [
    {
     "name": "stdout",
     "output_type": "stream",
     "text": [
      "Enter a number between 1 and 10: 89\n",
      "Number is out of range.\n"
     ]
    }
   ],
   "source": [
    "\"\"\"  The raise statement in Python is used to raise an exception manually. It is often used in custom exception handling\n",
    "code to indicate that an error has occurred.\"\"\"\n",
    "\n",
    "try:\n",
    "    x = int(input(\"Enter a number between 1 and 10: \"))\n",
    "    if x < 1 or x > 10:\n",
    "        raise ValueError(\"Number is out of range.\")\n",
    "except ValueError as ve:\n",
    "    print(ve)\n"
   ]
  },
  {
   "cell_type": "code",
   "execution_count": null,
   "id": "a1250bb7",
   "metadata": {},
   "outputs": [],
   "source": [
    "Q5. What are Custom Exceptions in python? Why do we need Custom Exceptions? Explain with an example?"
   ]
  },
  {
   "cell_type": "code",
   "execution_count": 6,
   "id": "15f76567",
   "metadata": {},
   "outputs": [],
   "source": [
    "\"\"\"Custom exceptions in Python are user-defined exceptions that can be raised when a specific error condition occurs in a\n",
    "program. They are created by subclassing the Exception class or one of its subclasses.\"\"\"\n",
    "\n",
    "class InvalidPasswordException(Exception):\n",
    "    pass\n",
    "def login(username, password):\n",
    "    if password != \"secret\":\n",
    "        raise InvalidPasswordException(\"Invalid password.\")\n",
    "    else:\n",
    "        print(\"Welcome, \" + username + \"!\")\n"
   ]
  },
  {
   "cell_type": "code",
   "execution_count": null,
   "id": "bc2be339",
   "metadata": {},
   "outputs": [],
   "source": [
    "Q6. create the custom exception class .use this class to handle the exception ?"
   ]
  },
  {
   "cell_type": "code",
   "execution_count": 11,
   "id": "369cecaa",
   "metadata": {},
   "outputs": [
    {
     "name": "stdout",
     "output_type": "stream",
     "text": [
      "Negative numbers are not allowed: -4\n"
     ]
    }
   ],
   "source": [
    "class NegativeNumberError(Exception):\n",
    "    def __init__(self, number):\n",
    "        self.number = number\n",
    "        self.message = \"Negative numbers are not allowed: \" + str(number)\n",
    "\n",
    "def square_root(number):\n",
    "    if number < 0:\n",
    "        raise NegativeNumberError(number)\n",
    "    else:\n",
    "        return number ** 0.5\n",
    "\n",
    "try:\n",
    "    result = square_root(-4)\n",
    "    print(result)\n",
    "except NegativeNumberError as e:\n",
    "    print(e.message)\n"
   ]
  },
  {
   "cell_type": "code",
   "execution_count": null,
   "id": "5305618c",
   "metadata": {},
   "outputs": [],
   "source": []
  },
  {
   "cell_type": "code",
   "execution_count": null,
   "id": "5bbd85aa",
   "metadata": {},
   "outputs": [],
   "source": []
  }
 ],
 "metadata": {
  "kernelspec": {
   "display_name": "Python 3 (ipykernel)",
   "language": "python",
   "name": "python3"
  },
  "language_info": {
   "codemirror_mode": {
    "name": "ipython",
    "version": 3
   },
   "file_extension": ".py",
   "mimetype": "text/x-python",
   "name": "python",
   "nbconvert_exporter": "python",
   "pygments_lexer": "ipython3",
   "version": "3.9.13"
  }
 },
 "nbformat": 4,
 "nbformat_minor": 5
}
